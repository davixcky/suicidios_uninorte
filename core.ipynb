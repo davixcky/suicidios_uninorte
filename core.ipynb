{
 "cells": [
  {
   "cell_type": "markdown",
   "metadata": {},
   "source": [
    "# Instalacion de dependencias necesarias"
   ]
  },
  {
   "cell_type": "code",
   "execution_count": 25,
   "metadata": {
    "scrolled": true
   },
   "outputs": [
    {
     "name": "stdout",
     "output_type": "stream",
     "text": [
      "Defaulting to user installation because normal site-packages is not writeable\n",
      "Requirement already satisfied: sklearn in /home/davixcky/.local/lib/python3.8/site-packages (0.0)\n",
      "Requirement already satisfied: geopandas in /home/davixcky/.local/lib/python3.8/site-packages (0.8.1)\n",
      "Requirement already satisfied: scikit-learn in /home/davixcky/.local/lib/python3.8/site-packages (from sklearn) (0.23.2)\n",
      "Requirement already satisfied: fiona in /home/davixcky/.local/lib/python3.8/site-packages (from geopandas) (1.8.18)\n",
      "Requirement already satisfied: pyproj>=2.2.0 in /home/davixcky/.local/lib/python3.8/site-packages (from geopandas) (3.0.0.post1)\n",
      "Requirement already satisfied: pandas>=0.23.0 in /home/davixcky/.local/lib/python3.8/site-packages (from geopandas) (1.1.1)\n",
      "Requirement already satisfied: shapely in /home/davixcky/.local/lib/python3.8/site-packages (from geopandas) (1.7.1)\n",
      "Requirement already satisfied: scipy>=0.19.1 in /home/davixcky/.local/lib/python3.8/site-packages (from scikit-learn->sklearn) (1.5.2)\n",
      "Requirement already satisfied: numpy>=1.13.3 in /home/davixcky/.local/lib/python3.8/site-packages (from scikit-learn->sklearn) (1.19.1)\n",
      "Requirement already satisfied: threadpoolctl>=2.0.0 in /home/davixcky/.local/lib/python3.8/site-packages (from scikit-learn->sklearn) (2.1.0)\n",
      "Requirement already satisfied: joblib>=0.11 in /home/davixcky/.local/lib/python3.8/site-packages (from scikit-learn->sklearn) (0.17.0)\n",
      "Requirement already satisfied: cligj>=0.5 in /home/davixcky/.local/lib/python3.8/site-packages (from fiona->geopandas) (0.7.0)\n",
      "Requirement already satisfied: click-plugins>=1.0 in /home/davixcky/.local/lib/python3.8/site-packages (from fiona->geopandas) (1.1.1)\n",
      "Requirement already satisfied: attrs>=17 in /usr/lib/python3.8/site-packages (from fiona->geopandas) (20.3.0)\n",
      "Requirement already satisfied: six>=1.7 in /usr/lib/python3.8/site-packages (from fiona->geopandas) (1.15.0)\n",
      "Requirement already satisfied: munch in /home/davixcky/.local/lib/python3.8/site-packages (from fiona->geopandas) (2.5.0)\n",
      "Requirement already satisfied: certifi in /home/davixcky/.local/lib/python3.8/site-packages (from fiona->geopandas) (2020.11.8)\n",
      "Requirement already satisfied: click<8,>=4.0 in /usr/lib/python3.8/site-packages (from fiona->geopandas) (7.1.2)\n",
      "Requirement already satisfied: python-dateutil>=2.7.3 in /home/davixcky/.local/lib/python3.8/site-packages (from pandas>=0.23.0->geopandas) (2.8.1)\n",
      "Requirement already satisfied: pytz>=2017.2 in /usr/lib/python3.8/site-packages (from pandas>=0.23.0->geopandas) (2020.4)\n"
     ]
    }
   ],
   "source": [
    "!pip install sklearn geopandas"
   ]
  },
  {
   "cell_type": "code",
   "execution_count": 26,
   "metadata": {
    "id": "3Um1mq9gzxaJ"
   },
   "outputs": [],
   "source": [
    "import pandas as pd\n",
    "import seaborn as sns\n",
    "import matplotlib.pyplot as plt"
   ]
  },
  {
   "cell_type": "code",
   "execution_count": 27,
   "metadata": {
    "id": "ei3A_HBQ0AU-"
   },
   "outputs": [],
   "source": [
    "df = pd.read_csv('data/medellin/sivigila.csv', delimiter=';');\n",
    "df['Suicidios'] = 1;\n",
    "fecha = pd.to_datetime(df['sivigila_intsuicidio.ini_sin_']);\n",
    "df['fecha'] = fecha;"
   ]
  },
  {
   "cell_type": "markdown",
   "metadata": {
    "id": "K2w07zbc0wAr"
   },
   "source": [
    "## Refactoring (cleaning dataset)"
   ]
  },
  {
   "cell_type": "code",
   "execution_count": 28,
   "metadata": {
    "colab": {
     "base_uri": "https://localhost:8080/",
     "height": 402
    },
    "id": "BVkWJKie1AB-",
    "outputId": "ef41f43b-6d40-43dc-e90f-163360944316"
   },
   "outputs": [
    {
     "data": {
      "text/html": [
       "<div>\n",
       "<style scoped>\n",
       "    .dataframe tbody tr th:only-of-type {\n",
       "        vertical-align: middle;\n",
       "    }\n",
       "\n",
       "    .dataframe tbody tr th {\n",
       "        vertical-align: top;\n",
       "    }\n",
       "\n",
       "    .dataframe thead th {\n",
       "        text-align: right;\n",
       "    }\n",
       "</style>\n",
       "<table border=\"1\" class=\"dataframe\">\n",
       "  <thead>\n",
       "    <tr style=\"text-align: right;\">\n",
       "      <th></th>\n",
       "      <th>edad</th>\n",
       "      <th>sexo</th>\n",
       "      <th>barrio</th>\n",
       "      <th>comuna</th>\n",
       "      <th>escolaridad</th>\n",
       "      <th>fecha</th>\n",
       "      <th>suicidios</th>\n",
       "    </tr>\n",
       "  </thead>\n",
       "  <tbody>\n",
       "    <tr>\n",
       "      <th>0</th>\n",
       "      <td>22</td>\n",
       "      <td>F</td>\n",
       "      <td>Santo Domingo Savio No.1</td>\n",
       "      <td>Popular</td>\n",
       "      <td>SD</td>\n",
       "      <td>2015-08-12</td>\n",
       "      <td>1</td>\n",
       "    </tr>\n",
       "    <tr>\n",
       "      <th>1</th>\n",
       "      <td>19</td>\n",
       "      <td>M</td>\n",
       "      <td>Villa Hermosa</td>\n",
       "      <td>Villa Hermosa</td>\n",
       "      <td>SD</td>\n",
       "      <td>2015-07-12</td>\n",
       "      <td>1</td>\n",
       "    </tr>\n",
       "    <tr>\n",
       "      <th>2</th>\n",
       "      <td>52</td>\n",
       "      <td>F</td>\n",
       "      <td>Los Conquistadores</td>\n",
       "      <td>Laureles</td>\n",
       "      <td>SD</td>\n",
       "      <td>2015-07-12</td>\n",
       "      <td>1</td>\n",
       "    </tr>\n",
       "    <tr>\n",
       "      <th>3</th>\n",
       "      <td>58</td>\n",
       "      <td>F</td>\n",
       "      <td>Las Violetas</td>\n",
       "      <td>Belen</td>\n",
       "      <td>SD</td>\n",
       "      <td>2015-06-12</td>\n",
       "      <td>1</td>\n",
       "    </tr>\n",
       "    <tr>\n",
       "      <th>4</th>\n",
       "      <td>32</td>\n",
       "      <td>M</td>\n",
       "      <td>Florida Nueva</td>\n",
       "      <td>Laureles</td>\n",
       "      <td>SD</td>\n",
       "      <td>2015-06-12</td>\n",
       "      <td>1</td>\n",
       "    </tr>\n",
       "    <tr>\n",
       "      <th>...</th>\n",
       "      <td>...</td>\n",
       "      <td>...</td>\n",
       "      <td>...</td>\n",
       "      <td>...</td>\n",
       "      <td>...</td>\n",
       "      <td>...</td>\n",
       "      <td>...</td>\n",
       "    </tr>\n",
       "    <tr>\n",
       "      <th>11331</th>\n",
       "      <td>17</td>\n",
       "      <td>F</td>\n",
       "      <td>Pajarito</td>\n",
       "      <td>Robledo</td>\n",
       "      <td>SD</td>\n",
       "      <td>2015-05-12</td>\n",
       "      <td>1</td>\n",
       "    </tr>\n",
       "    <tr>\n",
       "      <th>11332</th>\n",
       "      <td>16</td>\n",
       "      <td>F</td>\n",
       "      <td>Manrique Central No.1</td>\n",
       "      <td>Aranjuez</td>\n",
       "      <td>SD</td>\n",
       "      <td>2015-11-30</td>\n",
       "      <td>1</td>\n",
       "    </tr>\n",
       "    <tr>\n",
       "      <th>11333</th>\n",
       "      <td>16</td>\n",
       "      <td>F</td>\n",
       "      <td>Barrios de Jesus</td>\n",
       "      <td>Buenos Aires</td>\n",
       "      <td>SD</td>\n",
       "      <td>2015-04-12</td>\n",
       "      <td>1</td>\n",
       "    </tr>\n",
       "    <tr>\n",
       "      <th>11334</th>\n",
       "      <td>23</td>\n",
       "      <td>F</td>\n",
       "      <td>Moravia</td>\n",
       "      <td>Aranjuez</td>\n",
       "      <td>SD</td>\n",
       "      <td>2015-06-12</td>\n",
       "      <td>1</td>\n",
       "    </tr>\n",
       "    <tr>\n",
       "      <th>11335</th>\n",
       "      <td>24</td>\n",
       "      <td>F</td>\n",
       "      <td>El Poblado</td>\n",
       "      <td>El Poblado</td>\n",
       "      <td>SD</td>\n",
       "      <td>2015-09-12</td>\n",
       "      <td>1</td>\n",
       "    </tr>\n",
       "  </tbody>\n",
       "</table>\n",
       "<p>11336 rows × 7 columns</p>\n",
       "</div>"
      ],
      "text/plain": [
       "       edad sexo                    barrio         comuna escolaridad  \\\n",
       "0        22   F   Santo Domingo Savio No.1        Popular          SD   \n",
       "1        19   M              Villa Hermosa  Villa Hermosa          SD   \n",
       "2        52   F         Los Conquistadores       Laureles          SD   \n",
       "3        58   F               Las Violetas          Belen          SD   \n",
       "4        32   M              Florida Nueva       Laureles          SD   \n",
       "...     ...  ...                       ...            ...         ...   \n",
       "11331    17   F                   Pajarito        Robledo          SD   \n",
       "11332    16   F      Manrique Central No.1       Aranjuez          SD   \n",
       "11333    16   F           Barrios de Jesus   Buenos Aires          SD   \n",
       "11334    23   F                    Moravia       Aranjuez          SD   \n",
       "11335    24   F                 El Poblado     El Poblado          SD   \n",
       "\n",
       "           fecha  suicidios  \n",
       "0     2015-08-12          1  \n",
       "1     2015-07-12          1  \n",
       "2     2015-07-12          1  \n",
       "3     2015-06-12          1  \n",
       "4     2015-06-12          1  \n",
       "...          ...        ...  \n",
       "11331 2015-05-12          1  \n",
       "11332 2015-11-30          1  \n",
       "11333 2015-04-12          1  \n",
       "11334 2015-06-12          1  \n",
       "11335 2015-09-12          1  \n",
       "\n",
       "[11336 rows x 7 columns]"
      ]
     },
     "execution_count": 28,
     "metadata": {},
     "output_type": "execute_result"
    }
   ],
   "source": [
    "# Columns to select\n",
    "columns = ['sivigila_intsuicidio.edad_', \n",
    "           'sivigila_intsuicidio.sexo_',\n",
    "           'sivigila_intsuicidio.nombre_barrio',\n",
    "           'sivigila_intsuicidio.comuna',\n",
    "           'sivigila_intsuicidio.escolarid',\n",
    "           'fecha',\n",
    "           'Suicidios']\n",
    "\n",
    "df = df[columns]\n",
    "\n",
    "columns = ['edad',\n",
    "           'sexo',\n",
    "           'barrio',\n",
    "           'comuna',\n",
    "           'escolaridad',\n",
    "           'fecha',\n",
    "           'suicidios']\n",
    "\n",
    "df.columns = columns\n",
    "# Changing type edad: From object to int64\n",
    "\n",
    "df['edad'] = df['edad'].astype(str).astype(float).astype(int)\n",
    "\n",
    "# Filtros\n",
    "filtrosi = ((df['comuna']!='SIN INFORMACION')&(df['barrio']!='SIN INFORMACION'));\n",
    "filtrosd = (df['escolaridad']!='SD');\n",
    "df"
   ]
  },
  {
   "cell_type": "markdown",
   "metadata": {
    "id": "k51aH1TBe7aA"
   },
   "source": [
    "### Entrada\n",
    "- Edad\n",
    "- Sexo\n",
    "- Escolaridad\n",
    "- Mes del anio\n",
    "\n",
    "### Salida\n",
    "- Probalidad barrio comuna"
   ]
  },
  {
   "cell_type": "markdown",
   "metadata": {
    "id": "rH1GEI2v04-Y"
   },
   "source": [
    "# Graficas"
   ]
  },
  {
   "cell_type": "markdown",
   "metadata": {
    "id": "6KY0_ReHBHtR"
   },
   "source": [
    "## Suicidios Vs Lugar"
   ]
  },
  {
   "cell_type": "code",
   "execution_count": 29,
   "metadata": {
    "colab": {
     "base_uri": "https://localhost:8080/",
     "height": 425
    },
    "id": "1_Q8L4ukLtto",
    "outputId": "cffbdd10-6f3a-44c5-a00b-477699e46307"
   },
   "outputs": [
    {
     "data": {
      "image/png": "[encoded data removed]",
      "text/plain": [
       "<Figure size 432x288 with 1 Axes>"
      ]
     },
     "metadata": {},
     "output_type": "display_data"
    }
   ],
   "source": [
    "columnsc = ['comuna', 'suicidios'];\n",
    "columnsb = ['barrio', 'suicidios'];\n",
    "dfc = df[filtrosi][columnsc].groupby(by=['comuna']).sum();\n",
    "dfb = df[filtrosi][columnsb].groupby(by=['barrio']).sum();\n",
    "dfc.reset_index(inplace=True);\n",
    "dfb.reset_index(inplace=True);\n",
    "dfb = dfb.sort_values(by=['suicidios'], ascending=False);\n",
    "gc1 = sns.barplot(data=dfc, x='comuna', y='suicidios');\n",
    "gc1.set_xticklabels(labels = dfc['comuna'], rotation = 90);"
   ]
  },
  {
   "cell_type": "markdown",
   "metadata": {
    "id": "F1VJA1edZPs8"
   },
   "source": [
    "Las comunas que registran la mayor cantidad de suicidios son: Robledo, Doce de Octubre y Belen. En cambio, las comunas con menor cantidad de suicidios son: San Sebastián de Palmitas, Corregimiento de Santa Elena y Altavista."
   ]
  },
  {
   "cell_type": "code",
   "execution_count": 30,
   "metadata": {
    "colab": {
     "base_uri": "https://localhost:8080/",
     "height": 428
    },
    "id": "BwPhZV5aIOQv",
    "outputId": "b88d4aa9-1a30-47f4-f4eb-5d63e37a600f"
   },
   "outputs": [
    {
     "data": {
      "image/png": "[encoded data removed]",
      "text/plain": [
       "<Figure size 432x288 with 1 Axes>"
      ]
     },
     "metadata": {},
     "output_type": "display_data"
    }
   ],
   "source": [
    "dfb_max = dfb.head(20);\n",
    "gb1 = sns.barplot(data=dfb_max, x='barrio', y='suicidios');\n",
    "gb1.set_xticklabels(labels = dfb_max['barrio'], rotation = 90);"
   ]
  },
  {
   "cell_type": "markdown",
   "metadata": {
    "id": "kTotwIEib55J"
   },
   "source": [
    "Los 20 barrios mostrados son los que tienen mayor cantidad de suicidios. Se nota claramente que el barrio San Antonio de Prado es el barrio con mayor cantidad de suicidios. Además, se ve que todos estos barrios a escepción de San ANtonio de Prado tienen una cantidad de suicidios que ronda entre 100 y 200."
   ]
  },
  {
   "cell_type": "code",
   "execution_count": 31,
   "metadata": {
    "colab": {
     "base_uri": "https://localhost:8080/",
     "height": 428
    },
    "id": "fBLfCKhdxwuV",
    "outputId": "70676b0e-c57f-43f9-876f-393cc179ffff"
   },
   "outputs": [
    {
     "data": {
      "image/png": "[encoded data removed]",
      "text/plain": [
       "<Figure size 432x288 with 1 Axes>"
      ]
     },
     "metadata": {},
     "output_type": "display_data"
    }
   ],
   "source": [
    "columnsbc = ['comuna', 'barrio', 'suicidios'];\n",
    "dfbc = df[filtrosi][columnsbc].groupby(by=[df['comuna'], df['barrio']]).sum();\n",
    "dfbc.reset_index(inplace=True);\n",
    "gbc1 = sns.stripplot(data=dfbc, x='comuna', y='suicidios');\n",
    "gbc1.set_xticklabels(labels = dfc['comuna'], rotation = 90);"
   ]
  },
  {
   "cell_type": "markdown",
   "metadata": {
    "id": "_jjBD9armTLT"
   },
   "source": [
    "Los barrios de las comunas en general presentan una tasa de suicidios similar, sin embargo en la comuna San Antonio de Prado a pesar de que casi todos sus barrios tienen pocos suicidios, hay uno que presenta casi 400. Algo parecido sucede en la comuna de Castilla y el Corregimiento de San Cristobal, aunque no de forma tan notoria."
   ]
  },
  {
   "cell_type": "markdown",
   "metadata": {
    "id": "dr-s1eTu6VLp"
   },
   "source": [
    "## Suicidios Vs Tiempo"
   ]
  },
  {
   "cell_type": "code",
   "execution_count": 32,
   "metadata": {
    "colab": {
     "base_uri": "https://localhost:8080/",
     "height": 279
    },
    "id": "MHmHWpMVzEHK",
    "outputId": "18ee5581-3f13-4fab-bbf5-1d9759a4258e"
   },
   "outputs": [
    {
     "data": {
      "image/png": "[encoded data removed]",
      "text/plain": [
       "<Figure size 432x288 with 1 Axes>"
      ]
     },
     "metadata": {},
     "output_type": "display_data"
    }
   ],
   "source": [
    "columnsbca = ['fecha','comuna', 'suicidios'];\n",
    "dfbca = df[columnsbca].groupby(by=[df['fecha'].dt.month, 'comuna']).sum();\n",
    "dfbca.reset_index(inplace=True);\n",
    "dfbca.columns = ['mes', 'comuna', 'suicidios'];\n",
    "sns.boxplot(data=dfbca, x='mes', y='suicidios');"
   ]
  },
  {
   "cell_type": "code",
   "execution_count": 33,
   "metadata": {
    "colab": {
     "base_uri": "https://localhost:8080/",
     "height": 279
    },
    "id": "5IJJ-tAgB5YO",
    "outputId": "30a916d8-3199-4001-ef58-891464baebbb"
   },
   "outputs": [
    {
     "data": {
      "image/png": "[encoded data removed]",
      "text/plain": [
       "<Figure size 432x288 with 1 Axes>"
      ]
     },
     "metadata": {},
     "output_type": "display_data"
    }
   ],
   "source": [
    "df_mes = df\n",
    "columns = ['fecha', 'suicidios'];\n",
    "groups = [fecha.dt.year, fecha.dt.month];\n",
    "\n",
    "df_mes = df_mes[columns].groupby(groups).sum();\n",
    "\n",
    "df_mes.index.names = ['año', 'mes'];\n",
    "df_mes.reset_index(inplace=True);\n",
    "\n",
    "sns.set_style(style='darkgrid');\n",
    "sns.boxplot(data=df_mes, x='año', y='mes');"
   ]
  },
  {
   "cell_type": "markdown",
   "metadata": {
    "id": "SmXoJKOfVdZ6"
   },
   "source": [
    "En base al gráfico se puede notar que en el mes de Enero se presenta la mayor variabilidad en los suicidios. En cambio, el mes que presenta una menor variabilidad es el mes de Junio. "
   ]
  },
  {
   "cell_type": "code",
   "execution_count": 34,
   "metadata": {
    "colab": {
     "base_uri": "https://localhost:8080/",
     "height": 291
    },
    "id": "IC2EaMuI-wL9",
    "outputId": "2b8e67e2-4276-4dc5-83a4-5e04a55c447a"
   },
   "outputs": [
    {
     "data": {
      "image/png": "[encoded data removed]",
      "text/plain": [
       "<Figure size 432x288 with 1 Axes>"
      ]
     },
     "metadata": {},
     "output_type": "display_data"
    }
   ],
   "source": [
    "columnsfb = ['fecha', 'barrio', 'suicidios'];\n",
    "dfmb = df[columnsfb].groupby(by=[df['fecha'].dt.day_name(), 'barrio']).sum();\n",
    "dfmb.reset_index(inplace=True);\n",
    "dfmb.columns = ['día', 'barrio', 'suicidios'];\n",
    "lp=sns.pointplot(data=dfmb, x='día', y='suicidios');\n",
    "dias = ['Viernes', 'Lunes', 'Sábado', 'Domingo', 'Jueves', 'Martes', 'Miércoles'];\n",
    "lp.set_xticklabels(labels =dias , rotation = 15);"
   ]
  },
  {
   "cell_type": "markdown",
   "metadata": {
    "id": "HOFMOsBoK1Xk"
   },
   "source": [
    "El gráfico muestra que el viernes es el día de la semana. con menor cantidad de suicidios en general. Por el contrario, el lunes es el día de la semana que se tiene una mayor cantidad de suicidios. Además, todos los días de la semana presentan una variabilidad bastante similar con respecto a los barrios en los que suceden."
   ]
  },
  {
   "cell_type": "code",
   "execution_count": 35,
   "metadata": {
    "colab": {
     "base_uri": "https://localhost:8080/",
     "height": 280
    },
    "id": "2CWBgGHGEkGN",
    "outputId": "68d10ccd-130d-4e3a-e0e1-3f90b0f3b10c"
   },
   "outputs": [
    {
     "data": {
      "image/png": "[encoded data removed]",
      "text/plain": [
       "<Figure size 432x288 with 1 Axes>"
      ]
     },
     "metadata": {},
     "output_type": "display_data"
    }
   ],
   "source": [
    "columnsf = ['fecha', 'suicidios'];\n",
    "dfy = df[columnsf].groupby(by=[df['fecha'].dt.month]).sum();\n",
    "dfy.reset_index(inplace=True);\n",
    "dfy.columns = ['mes', 'suicidios'];\n",
    "sns.lineplot(data=dfy, x='mes', y='suicidios');"
   ]
  },
  {
   "cell_type": "markdown",
   "metadata": {
    "id": "UDqutKOiX4uk"
   },
   "source": [
    "Del gráfico podemos concluir que el mes de enero es el que tiene mayor cantidad de suicidios con mucha diferencia respecto al resto, presentando casi 1200 suicidios. Sin embargo, los meses de febrero, noviembre y diciembre son los que presentan la menor cantidad de suicidios, habiendo poco más de 850. Durante el resto del año, los suicidios se mantienen entre 850 y 1000."
   ]
  },
  {
   "cell_type": "code",
   "execution_count": 36,
   "metadata": {
    "colab": {
     "base_uri": "https://localhost:8080/",
     "height": 281
    },
    "id": "8aZMMyYxJyed",
    "outputId": "ba85605b-f631-46d0-9203-ad623c59b6d8"
   },
   "outputs": [
    {
     "data": {
      "image/png": "[encoded data removed]",
      "text/plain": [
       "<Figure size 432x288 with 1 Axes>"
      ]
     },
     "metadata": {},
     "output_type": "display_data"
    }
   ],
   "source": [
    "columnsf = ['fecha', 'suicidios'];\n",
    "dfy = df[columnsf].groupby(by=[df['fecha'].dt.day]).sum();\n",
    "dfy.reset_index(inplace=True);\n",
    "dfy.columns = ['día', 'suicidios'];\n",
    "sns.lineplot(data=dfy, x='día', y='suicidios');"
   ]
  },
  {
   "cell_type": "markdown",
   "metadata": {
    "id": "B2nNYwJ-dSAN"
   },
   "source": [
    "Durante el primer día del mes es cuando hay una mayor cantidad de suicidios. Posterior a ese día, la tasa de suicidios se mantiene entre los 350 y 450. El día con menor tasa de suicidios es el 31, pero esto puede deberse a que hay meses que no tienen 31 días.\n",
    "\n"
   ]
  },
  {
   "cell_type": "markdown",
   "metadata": {
    "id": "GpHxdbcrCnwd"
   },
   "source": [
    "## Edad vs Suicidios (Hue set to 'Sexo')"
   ]
  },
  {
   "cell_type": "code",
   "execution_count": 37,
   "metadata": {
    "colab": {
     "base_uri": "https://localhost:8080/",
     "height": 279
    },
    "id": "ZEOOG1slKbhW",
    "outputId": "94a79272-4741-49a4-97d4-70f30606878f"
   },
   "outputs": [
    {
     "data": {
      "image/png": "[encoded data removed]",
      "text/plain": [
       "<Figure size 432x288 with 1 Axes>"
      ]
     },
     "metadata": {},
     "output_type": "display_data"
    }
   ],
   "source": [
    "columnse = ['edad', 'sexo', 'suicidios'];\n",
    "dfy = df[columnse].groupby(by=['edad', 'sexo']).sum();\n",
    "dfy.reset_index(inplace=True);\n",
    "dfy.columns = ['Edad', 'Sexo', 'Suicidios'];\n",
    "sns.scatterplot(data=dfy, x='Edad', y='Suicidios', hue='Sexo');"
   ]
  },
  {
   "cell_type": "code",
   "execution_count": 38,
   "metadata": {
    "colab": {
     "base_uri": "https://localhost:8080/",
     "height": 279
    },
    "id": "H-B2brLKDtb7",
    "outputId": "5e4413cd-9635-4df7-eeb2-ae6cc6df2e6a"
   },
   "outputs": [
    {
     "data": {
      "image/png": "[encoded data removed]",
      "text/plain": [
       "<Figure size 432x288 with 1 Axes>"
      ]
     },
     "metadata": {},
     "output_type": "display_data"
    }
   ],
   "source": [
    "sns.lineplot(data= dfy, x= 'Edad',y = 'Suicidios', hue= 'Sexo');"
   ]
  },
  {
   "cell_type": "markdown",
   "metadata": {
    "id": "mrrqDVKMiD5j"
   },
   "source": []
  },
  {
   "cell_type": "markdown",
   "metadata": {
    "id": "jYDtUdGBkQxX"
   },
   "source": [
    "De los gráficos se concluye que el género femenino presenta una mayor tasa de suicidio que el género masculino antes de los 40 años. Donde más se nota esta diferencia es alrededor de los 20 años, ya que las mujeres presentaron casi 300 suicidios más que los hombres. Además, rondando esta edad es donde mayor cantidad de suicidios en general se presentan. "
   ]
  },
  {
   "cell_type": "code",
   "execution_count": 39,
   "metadata": {
    "colab": {
     "base_uri": "https://localhost:8080/",
     "height": 279
    },
    "id": "xPmrtwxmHJbY",
    "outputId": "41774a62-3376-489b-9b51-e2d4a00c127e"
   },
   "outputs": [
    {
     "data": {
      "image/png": "[encoded data removed]",
      "text/plain": [
       "<Figure size 432x288 with 1 Axes>"
      ]
     },
     "metadata": {},
     "output_type": "display_data"
    }
   ],
   "source": [
    "dfnm = df[filtrosd][['escolaridad','suicidios']].groupby(by='escolaridad').sum();\n",
    "dfnm.reset_index(inplace=True);\n",
    "dfnm.columns = ['Nivel escolaridad', 'Suicidios'];\n",
    "sns.lineplot(data=dfnm, x='Nivel escolaridad', y='Suicidios');"
   ]
  },
  {
   "cell_type": "markdown",
   "metadata": {
    "id": "2t8X-jPuFaFm"
   },
   "source": [
    "## Modelo Regresión Logística"
   ]
  },
  {
   "cell_type": "code",
   "execution_count": 40,
   "metadata": {
    "colab": {
     "base_uri": "https://localhost:8080/",
     "height": 435
    },
    "id": "nc7wla4YFZZL",
    "outputId": "e6564f8f-bcf3-4322-ae1b-22ff28f7fd1d"
   },
   "outputs": [
    {
     "name": "stderr",
     "output_type": "stream",
     "text": [
      "<ipython-input-40-3558576b8592>:2: UserWarning: Boolean Series key will be reindexed to match DataFrame index.\n",
      "  dfmrl = df[filtrosi][filtrosd][columnsmrl];\n"
     ]
    },
    {
     "data": {
      "text/html": [
       "<div>\n",
       "<style scoped>\n",
       "    .dataframe tbody tr th:only-of-type {\n",
       "        vertical-align: middle;\n",
       "    }\n",
       "\n",
       "    .dataframe tbody tr th {\n",
       "        vertical-align: top;\n",
       "    }\n",
       "\n",
       "    .dataframe thead th {\n",
       "        text-align: right;\n",
       "    }\n",
       "</style>\n",
       "<table border=\"1\" class=\"dataframe\">\n",
       "  <thead>\n",
       "    <tr style=\"text-align: right;\">\n",
       "      <th></th>\n",
       "      <th>comuna</th>\n",
       "      <th>edad</th>\n",
       "      <th>escolaridad</th>\n",
       "      <th>femenino</th>\n",
       "      <th>masculino</th>\n",
       "    </tr>\n",
       "  </thead>\n",
       "  <tbody>\n",
       "    <tr>\n",
       "      <th>2048</th>\n",
       "      <td>Robledo</td>\n",
       "      <td>24</td>\n",
       "      <td>3</td>\n",
       "      <td>1</td>\n",
       "      <td>0</td>\n",
       "    </tr>\n",
       "    <tr>\n",
       "      <th>2049</th>\n",
       "      <td>Altavista</td>\n",
       "      <td>30</td>\n",
       "      <td>2</td>\n",
       "      <td>0</td>\n",
       "      <td>1</td>\n",
       "    </tr>\n",
       "    <tr>\n",
       "      <th>2050</th>\n",
       "      <td>Belen</td>\n",
       "      <td>20</td>\n",
       "      <td>9</td>\n",
       "      <td>1</td>\n",
       "      <td>0</td>\n",
       "    </tr>\n",
       "    <tr>\n",
       "      <th>2051</th>\n",
       "      <td>Castilla</td>\n",
       "      <td>23</td>\n",
       "      <td>3</td>\n",
       "      <td>1</td>\n",
       "      <td>0</td>\n",
       "    </tr>\n",
       "    <tr>\n",
       "      <th>2053</th>\n",
       "      <td>Santa Cruz</td>\n",
       "      <td>14</td>\n",
       "      <td>3</td>\n",
       "      <td>1</td>\n",
       "      <td>0</td>\n",
       "    </tr>\n",
       "    <tr>\n",
       "      <th>...</th>\n",
       "      <td>...</td>\n",
       "      <td>...</td>\n",
       "      <td>...</td>\n",
       "      <td>...</td>\n",
       "      <td>...</td>\n",
       "    </tr>\n",
       "    <tr>\n",
       "      <th>8308</th>\n",
       "      <td>Santa Cruz</td>\n",
       "      <td>17</td>\n",
       "      <td>2</td>\n",
       "      <td>1</td>\n",
       "      <td>0</td>\n",
       "    </tr>\n",
       "    <tr>\n",
       "      <th>8309</th>\n",
       "      <td>Santa Cruz</td>\n",
       "      <td>17</td>\n",
       "      <td>3</td>\n",
       "      <td>1</td>\n",
       "      <td>0</td>\n",
       "    </tr>\n",
       "    <tr>\n",
       "      <th>8311</th>\n",
       "      <td>Belen</td>\n",
       "      <td>17</td>\n",
       "      <td>3</td>\n",
       "      <td>1</td>\n",
       "      <td>0</td>\n",
       "    </tr>\n",
       "    <tr>\n",
       "      <th>8313</th>\n",
       "      <td>Robledo</td>\n",
       "      <td>17</td>\n",
       "      <td>9</td>\n",
       "      <td>1</td>\n",
       "      <td>0</td>\n",
       "    </tr>\n",
       "    <tr>\n",
       "      <th>8315</th>\n",
       "      <td>Corregimiento de San Cristobal</td>\n",
       "      <td>82</td>\n",
       "      <td>14</td>\n",
       "      <td>1</td>\n",
       "      <td>0</td>\n",
       "    </tr>\n",
       "  </tbody>\n",
       "</table>\n",
       "<p>3882 rows × 5 columns</p>\n",
       "</div>"
      ],
      "text/plain": [
       "                              comuna  edad escolaridad  femenino  masculino\n",
       "2048                         Robledo    24          3          1          0\n",
       "2049                       Altavista    30          2          0          1\n",
       "2050                           Belen    20          9          1          0\n",
       "2051                        Castilla    23          3          1          0\n",
       "2053                      Santa Cruz    14          3          1          0\n",
       "...                              ...   ...         ...       ...        ...\n",
       "8308                      Santa Cruz    17          2          1          0\n",
       "8309                      Santa Cruz    17          3          1          0\n",
       "8311                           Belen    17          3          1          0\n",
       "8313                         Robledo    17          9          1          0\n",
       "8315  Corregimiento de San Cristobal    82          14         1          0\n",
       "\n",
       "[3882 rows x 5 columns]"
      ]
     },
     "execution_count": 40,
     "metadata": {},
     "output_type": "execute_result"
    }
   ],
   "source": [
    "columnsmrl = ['comuna','edad','sexo','escolaridad'];\n",
    "dfmrl = df[filtrosi][filtrosd][columnsmrl];\n",
    "dfnew = pd.get_dummies(data=dfmrl,columns=['sexo']);\n",
    "dfnew.columns=['comuna', 'edad', 'escolaridad', 'femenino', 'masculino'];\n",
    "dfnew"
   ]
  },
  {
   "cell_type": "code",
   "execution_count": 41,
   "metadata": {
    "id": "9T_8UCRkvjIh"
   },
   "outputs": [],
   "source": [
    "X = dfnew[['edad','escolaridad','femenino','masculino']].values;\n",
    "y = dfnew['comuna'].values;"
   ]
  },
  {
   "cell_type": "code",
   "execution_count": 42,
   "metadata": {
    "id": "D4ID6d1zvjdW"
   },
   "outputs": [],
   "source": [
    "from sklearn.model_selection import train_test_split"
   ]
  },
  {
   "cell_type": "code",
   "execution_count": 43,
   "metadata": {
    "id": "5mxGco2jpGZq"
   },
   "outputs": [],
   "source": [
    "from sklearn.linear_model import LogisticRegression\n",
    "from sklearn.svm import SVC\n",
    "from sklearn.neural_network import MLPClassifier"
   ]
  },
  {
   "cell_type": "code",
   "execution_count": 44,
   "metadata": {
    "id": "gcA01Jl5qHft"
   },
   "outputs": [],
   "source": [
    "Xt,Xv,yt,yv = train_test_split(X,y,test_size=0.3,random_state=100);\n"
   ]
  },
  {
   "cell_type": "code",
   "execution_count": 45,
   "metadata": {
    "colab": {
     "base_uri": "https://localhost:8080/"
    },
    "id": "nTIQeoaS9SkR",
    "outputId": "b3450e54-1596-4e94-bee3-d2c3db9c0705"
   },
   "outputs": [
    {
     "name": "stdout",
     "output_type": "stream",
     "text": [
      "Score LOGIT 0.1055793991416309\n"
     ]
    }
   ],
   "source": [
    "log_model = LogisticRegression(max_iter=1000);\n",
    "log_model_fit = log_model.fit(Xt,yt); \n",
    "score_log_model = log_model_fit.score(Xv,yv);\n",
    "print(f'Score LOGIT {score_log_model}')"
   ]
  },
  {
   "cell_type": "code",
   "execution_count": 46,
   "metadata": {
    "colab": {
     "base_uri": "https://localhost:8080/"
    },
    "id": "ICMigPj8zjv7",
    "outputId": "ef8d87dc-6b09-4bc4-8dcf-f634ed01a9ff"
   },
   "outputs": [
    {
     "name": "stdout",
     "output_type": "stream",
     "text": [
      "Score SVC 0.10472103004291845\n"
     ]
    }
   ],
   "source": [
    "svc_model = SVC();\n",
    "svc_model_fit = svc_model.fit(Xt,yt); #Training \n",
    "score_svc_model = svc_model_fit.score(Xv,yv);\n",
    "\n",
    "print(f'Score SVC {score_svc_model}')"
   ]
  },
  {
   "cell_type": "code",
   "execution_count": 47,
   "metadata": {
    "colab": {
     "base_uri": "https://localhost:8080/"
    },
    "id": "_qRkF6Us9lPp",
    "outputId": "079e0820-daea-485d-9e69-18a6d1fb2da3"
   },
   "outputs": [
    {
     "name": "stdout",
     "output_type": "stream",
     "text": [
      "MLP Score 0.11587982832618025\n"
     ]
    }
   ],
   "source": [
    "mlp_model = MLPClassifier(hidden_layer_sizes=(10,10),activation='tanh',max_iter=1000);\n",
    "mlp_model_fit = mlp_model.fit(Xt,yt);\n",
    "mlp_score = mlp_model_fit.score(Xv,yv);\n",
    "print(f'MLP Score {mlp_score}');"
   ]
  },
  {
   "cell_type": "code",
   "execution_count": 48,
   "metadata": {
    "colab": {
     "base_uri": "https://localhost:8080/",
     "height": 606
    },
    "id": "ECUgYMpm0XYE",
    "outputId": "b16ee68f-a38a-4169-c2aa-d3c792d4339c"
   },
   "outputs": [
    {
     "name": "stderr",
     "output_type": "stream",
     "text": [
      "<ipython-input-48-8f49e34dcf40>:2: UserWarning: Boolean Series key will be reindexed to match DataFrame index.\n",
      "  dfmrl2 = df[filtrosi][filtrosd][columnsmrl2];\n"
     ]
    },
    {
     "data": {
      "text/html": [
       "<div>\n",
       "<style scoped>\n",
       "    .dataframe tbody tr th:only-of-type {\n",
       "        vertical-align: middle;\n",
       "    }\n",
       "\n",
       "    .dataframe tbody tr th {\n",
       "        vertical-align: top;\n",
       "    }\n",
       "\n",
       "    .dataframe thead th {\n",
       "        text-align: right;\n",
       "    }\n",
       "</style>\n",
       "<table border=\"1\" class=\"dataframe\">\n",
       "  <thead>\n",
       "    <tr style=\"text-align: right;\">\n",
       "      <th></th>\n",
       "      <th>barrio</th>\n",
       "      <th>edad</th>\n",
       "      <th>escolaridad</th>\n",
       "      <th>Altavista</th>\n",
       "      <th>Aranjuez</th>\n",
       "      <th>Belen</th>\n",
       "      <th>Buenos Aires</th>\n",
       "      <th>Castilla</th>\n",
       "      <th>C_Santa Elena</th>\n",
       "      <th>C_San Cristobal</th>\n",
       "      <th>...</th>\n",
       "      <th>Manrique</th>\n",
       "      <th>Popular</th>\n",
       "      <th>Robledo</th>\n",
       "      <th>San Antonio de Prado</th>\n",
       "      <th>San Javier</th>\n",
       "      <th>San Sebastian de Palmitas</th>\n",
       "      <th>Santa Cruz</th>\n",
       "      <th>Villa Hermosa</th>\n",
       "      <th>femenino</th>\n",
       "      <th>masculino</th>\n",
       "    </tr>\n",
       "  </thead>\n",
       "  <tbody>\n",
       "    <tr>\n",
       "      <th>2048</th>\n",
       "      <td>Aures No.2</td>\n",
       "      <td>24</td>\n",
       "      <td>3</td>\n",
       "      <td>0</td>\n",
       "      <td>0</td>\n",
       "      <td>0</td>\n",
       "      <td>0</td>\n",
       "      <td>0</td>\n",
       "      <td>0</td>\n",
       "      <td>0</td>\n",
       "      <td>...</td>\n",
       "      <td>0</td>\n",
       "      <td>0</td>\n",
       "      <td>1</td>\n",
       "      <td>0</td>\n",
       "      <td>0</td>\n",
       "      <td>0</td>\n",
       "      <td>0</td>\n",
       "      <td>0</td>\n",
       "      <td>1</td>\n",
       "      <td>0</td>\n",
       "    </tr>\n",
       "    <tr>\n",
       "      <th>2049</th>\n",
       "      <td>San Jose del Manzanillo</td>\n",
       "      <td>30</td>\n",
       "      <td>2</td>\n",
       "      <td>1</td>\n",
       "      <td>0</td>\n",
       "      <td>0</td>\n",
       "      <td>0</td>\n",
       "      <td>0</td>\n",
       "      <td>0</td>\n",
       "      <td>0</td>\n",
       "      <td>...</td>\n",
       "      <td>0</td>\n",
       "      <td>0</td>\n",
       "      <td>0</td>\n",
       "      <td>0</td>\n",
       "      <td>0</td>\n",
       "      <td>0</td>\n",
       "      <td>0</td>\n",
       "      <td>0</td>\n",
       "      <td>0</td>\n",
       "      <td>1</td>\n",
       "    </tr>\n",
       "    <tr>\n",
       "      <th>2050</th>\n",
       "      <td>La Gloria</td>\n",
       "      <td>20</td>\n",
       "      <td>9</td>\n",
       "      <td>0</td>\n",
       "      <td>0</td>\n",
       "      <td>1</td>\n",
       "      <td>0</td>\n",
       "      <td>0</td>\n",
       "      <td>0</td>\n",
       "      <td>0</td>\n",
       "      <td>...</td>\n",
       "      <td>0</td>\n",
       "      <td>0</td>\n",
       "      <td>0</td>\n",
       "      <td>0</td>\n",
       "      <td>0</td>\n",
       "      <td>0</td>\n",
       "      <td>0</td>\n",
       "      <td>0</td>\n",
       "      <td>1</td>\n",
       "      <td>0</td>\n",
       "    </tr>\n",
       "    <tr>\n",
       "      <th>2051</th>\n",
       "      <td>Girardot</td>\n",
       "      <td>23</td>\n",
       "      <td>3</td>\n",
       "      <td>0</td>\n",
       "      <td>0</td>\n",
       "      <td>0</td>\n",
       "      <td>0</td>\n",
       "      <td>1</td>\n",
       "      <td>0</td>\n",
       "      <td>0</td>\n",
       "      <td>...</td>\n",
       "      <td>0</td>\n",
       "      <td>0</td>\n",
       "      <td>0</td>\n",
       "      <td>0</td>\n",
       "      <td>0</td>\n",
       "      <td>0</td>\n",
       "      <td>0</td>\n",
       "      <td>0</td>\n",
       "      <td>1</td>\n",
       "      <td>0</td>\n",
       "    </tr>\n",
       "    <tr>\n",
       "      <th>2053</th>\n",
       "      <td>La Francia</td>\n",
       "      <td>14</td>\n",
       "      <td>3</td>\n",
       "      <td>0</td>\n",
       "      <td>0</td>\n",
       "      <td>0</td>\n",
       "      <td>0</td>\n",
       "      <td>0</td>\n",
       "      <td>0</td>\n",
       "      <td>0</td>\n",
       "      <td>...</td>\n",
       "      <td>0</td>\n",
       "      <td>0</td>\n",
       "      <td>0</td>\n",
       "      <td>0</td>\n",
       "      <td>0</td>\n",
       "      <td>0</td>\n",
       "      <td>1</td>\n",
       "      <td>0</td>\n",
       "      <td>1</td>\n",
       "      <td>0</td>\n",
       "    </tr>\n",
       "    <tr>\n",
       "      <th>...</th>\n",
       "      <td>...</td>\n",
       "      <td>...</td>\n",
       "      <td>...</td>\n",
       "      <td>...</td>\n",
       "      <td>...</td>\n",
       "      <td>...</td>\n",
       "      <td>...</td>\n",
       "      <td>...</td>\n",
       "      <td>...</td>\n",
       "      <td>...</td>\n",
       "      <td>...</td>\n",
       "      <td>...</td>\n",
       "      <td>...</td>\n",
       "      <td>...</td>\n",
       "      <td>...</td>\n",
       "      <td>...</td>\n",
       "      <td>...</td>\n",
       "      <td>...</td>\n",
       "      <td>...</td>\n",
       "      <td>...</td>\n",
       "      <td>...</td>\n",
       "    </tr>\n",
       "    <tr>\n",
       "      <th>8308</th>\n",
       "      <td>Playon de Los Comuneros</td>\n",
       "      <td>17</td>\n",
       "      <td>2</td>\n",
       "      <td>0</td>\n",
       "      <td>0</td>\n",
       "      <td>0</td>\n",
       "      <td>0</td>\n",
       "      <td>0</td>\n",
       "      <td>0</td>\n",
       "      <td>0</td>\n",
       "      <td>...</td>\n",
       "      <td>0</td>\n",
       "      <td>0</td>\n",
       "      <td>0</td>\n",
       "      <td>0</td>\n",
       "      <td>0</td>\n",
       "      <td>0</td>\n",
       "      <td>1</td>\n",
       "      <td>0</td>\n",
       "      <td>1</td>\n",
       "      <td>0</td>\n",
       "    </tr>\n",
       "    <tr>\n",
       "      <th>8309</th>\n",
       "      <td>Andalucia</td>\n",
       "      <td>17</td>\n",
       "      <td>3</td>\n",
       "      <td>0</td>\n",
       "      <td>0</td>\n",
       "      <td>0</td>\n",
       "      <td>0</td>\n",
       "      <td>0</td>\n",
       "      <td>0</td>\n",
       "      <td>0</td>\n",
       "      <td>...</td>\n",
       "      <td>0</td>\n",
       "      <td>0</td>\n",
       "      <td>0</td>\n",
       "      <td>0</td>\n",
       "      <td>0</td>\n",
       "      <td>0</td>\n",
       "      <td>1</td>\n",
       "      <td>0</td>\n",
       "      <td>1</td>\n",
       "      <td>0</td>\n",
       "    </tr>\n",
       "    <tr>\n",
       "      <th>8311</th>\n",
       "      <td>La Hondonada</td>\n",
       "      <td>17</td>\n",
       "      <td>3</td>\n",
       "      <td>0</td>\n",
       "      <td>0</td>\n",
       "      <td>1</td>\n",
       "      <td>0</td>\n",
       "      <td>0</td>\n",
       "      <td>0</td>\n",
       "      <td>0</td>\n",
       "      <td>...</td>\n",
       "      <td>0</td>\n",
       "      <td>0</td>\n",
       "      <td>0</td>\n",
       "      <td>0</td>\n",
       "      <td>0</td>\n",
       "      <td>0</td>\n",
       "      <td>0</td>\n",
       "      <td>0</td>\n",
       "      <td>1</td>\n",
       "      <td>0</td>\n",
       "    </tr>\n",
       "    <tr>\n",
       "      <th>8313</th>\n",
       "      <td>San German</td>\n",
       "      <td>17</td>\n",
       "      <td>9</td>\n",
       "      <td>0</td>\n",
       "      <td>0</td>\n",
       "      <td>0</td>\n",
       "      <td>0</td>\n",
       "      <td>0</td>\n",
       "      <td>0</td>\n",
       "      <td>0</td>\n",
       "      <td>...</td>\n",
       "      <td>0</td>\n",
       "      <td>0</td>\n",
       "      <td>1</td>\n",
       "      <td>0</td>\n",
       "      <td>0</td>\n",
       "      <td>0</td>\n",
       "      <td>0</td>\n",
       "      <td>0</td>\n",
       "      <td>1</td>\n",
       "      <td>0</td>\n",
       "    </tr>\n",
       "    <tr>\n",
       "      <th>8315</th>\n",
       "      <td>Corregimiento de San Cristobal</td>\n",
       "      <td>82</td>\n",
       "      <td>14</td>\n",
       "      <td>0</td>\n",
       "      <td>0</td>\n",
       "      <td>0</td>\n",
       "      <td>0</td>\n",
       "      <td>0</td>\n",
       "      <td>0</td>\n",
       "      <td>1</td>\n",
       "      <td>...</td>\n",
       "      <td>0</td>\n",
       "      <td>0</td>\n",
       "      <td>0</td>\n",
       "      <td>0</td>\n",
       "      <td>0</td>\n",
       "      <td>0</td>\n",
       "      <td>0</td>\n",
       "      <td>0</td>\n",
       "      <td>1</td>\n",
       "      <td>0</td>\n",
       "    </tr>\n",
       "  </tbody>\n",
       "</table>\n",
       "<p>3882 rows × 26 columns</p>\n",
       "</div>"
      ],
      "text/plain": [
       "                              barrio  edad escolaridad  Altavista  Aranjuez  \\\n",
       "2048                      Aures No.2    24          3           0         0   \n",
       "2049         San Jose del Manzanillo    30          2           1         0   \n",
       "2050                       La Gloria    20          9           0         0   \n",
       "2051                        Girardot    23          3           0         0   \n",
       "2053                      La Francia    14          3           0         0   \n",
       "...                              ...   ...         ...        ...       ...   \n",
       "8308         Playon de Los Comuneros    17          2           0         0   \n",
       "8309                       Andalucia    17          3           0         0   \n",
       "8311                    La Hondonada    17          3           0         0   \n",
       "8313                      San German    17          9           0         0   \n",
       "8315  Corregimiento de San Cristobal    82          14          0         0   \n",
       "\n",
       "      Belen  Buenos Aires  Castilla  C_Santa Elena  C_San Cristobal  ...  \\\n",
       "2048      0             0         0              0                0  ...   \n",
       "2049      0             0         0              0                0  ...   \n",
       "2050      1             0         0              0                0  ...   \n",
       "2051      0             0         1              0                0  ...   \n",
       "2053      0             0         0              0                0  ...   \n",
       "...     ...           ...       ...            ...              ...  ...   \n",
       "8308      0             0         0              0                0  ...   \n",
       "8309      0             0         0              0                0  ...   \n",
       "8311      1             0         0              0                0  ...   \n",
       "8313      0             0         0              0                0  ...   \n",
       "8315      0             0         0              0                1  ...   \n",
       "\n",
       "      Manrique  Popular  Robledo  San Antonio de Prado  San Javier  \\\n",
       "2048         0        0        1                     0           0   \n",
       "2049         0        0        0                     0           0   \n",
       "2050         0        0        0                     0           0   \n",
       "2051         0        0        0                     0           0   \n",
       "2053         0        0        0                     0           0   \n",
       "...        ...      ...      ...                   ...         ...   \n",
       "8308         0        0        0                     0           0   \n",
       "8309         0        0        0                     0           0   \n",
       "8311         0        0        0                     0           0   \n",
       "8313         0        0        1                     0           0   \n",
       "8315         0        0        0                     0           0   \n",
       "\n",
       "      San Sebastian de Palmitas  Santa Cruz  Villa Hermosa  femenino  \\\n",
       "2048                          0           0              0         1   \n",
       "2049                          0           0              0         0   \n",
       "2050                          0           0              0         1   \n",
       "2051                          0           0              0         1   \n",
       "2053                          0           1              0         1   \n",
       "...                         ...         ...            ...       ...   \n",
       "8308                          0           1              0         1   \n",
       "8309                          0           1              0         1   \n",
       "8311                          0           0              0         1   \n",
       "8313                          0           0              0         1   \n",
       "8315                          0           0              0         1   \n",
       "\n",
       "      masculino  \n",
       "2048          0  \n",
       "2049          1  \n",
       "2050          0  \n",
       "2051          0  \n",
       "2053          0  \n",
       "...         ...  \n",
       "8308          0  \n",
       "8309          0  \n",
       "8311          0  \n",
       "8313          0  \n",
       "8315          0  \n",
       "\n",
       "[3882 rows x 26 columns]"
      ]
     },
     "execution_count": 48,
     "metadata": {},
     "output_type": "execute_result"
    }
   ],
   "source": [
    "columnsmrl2 = ['barrio','comuna','edad','sexo','escolaridad'];\n",
    "dfmrl2 = df[filtrosi][filtrosd][columnsmrl2];\n",
    "dfnew2 = pd.get_dummies(data=dfmrl2,columns=['comuna','sexo']);\n",
    "dfnew2.columns=['barrio','edad', 'escolaridad', 'Altavista', 'Aranjuez', 'Belen', 'Buenos Aires', 'Castilla', 'C_Santa Elena', 'C_San Cristobal', 'Doce de Octubre', 'El Poblado', 'Guayabal', 'La America', 'La Candelaria', 'Laureles', 'Manrique', 'Popular', 'Robledo', 'San Antonio de Prado', 'San Javier', 'San Sebastian de Palmitas', 'Santa Cruz', 'Villa Hermosa', 'femenino', 'masculino'];\n",
    "dfnew2"
   ]
  },
  {
   "cell_type": "code",
   "execution_count": 49,
   "metadata": {
    "id": "HA4CV1sf7u4q"
   },
   "outputs": [],
   "source": [
    "X = dfnew2[['edad', 'escolaridad', 'Altavista', 'Aranjuez', 'Belen', 'Buenos Aires', 'Castilla', 'C_Santa Elena', 'C_San Cristobal', 'Doce de Octubre', 'El Poblado', 'Guayabal', 'La America', 'La Candelaria', 'Laureles', 'Manrique', 'Popular', 'Robledo', 'San Antonio de Prado', 'San Javier', 'San Sebastian de Palmitas', 'Santa Cruz', 'Villa Hermosa', 'femenino', 'masculino']].values;\n",
    "y = dfnew2['barrio'].values;"
   ]
  },
  {
   "cell_type": "code",
   "execution_count": 50,
   "metadata": {
    "colab": {
     "base_uri": "https://localhost:8080/"
    },
    "id": "5JTq1A9r9NtD",
    "outputId": "e05751ae-bf79-40da-b0f3-8b2dd35001bb"
   },
   "outputs": [
    {
     "name": "stdout",
     "output_type": "stream",
     "text": [
      "MLP Score 0.21106821106821108\n"
     ]
    }
   ],
   "source": [
    "Xt,Xv,yt,yv = train_test_split(X,y,test_size=0.2,random_state=100);\n",
    "mlp_model = MLPClassifier(hidden_layer_sizes=(10,10,10),activation='relu', max_iter=1000);\n",
    "mlp_model_fit = mlp_model.fit(Xt,yt);\n",
    "mlp_score = mlp_model_fit.score(Xv,yv);\n",
    "print(f'MLP Score {mlp_score}');"
   ]
  },
  {
   "cell_type": "code",
   "execution_count": null,
   "metadata": {
    "colab": {
     "base_uri": "https://localhost:8080/"
    },
    "id": "EIp-y8-07vPg",
    "outputId": "00a24266-ad09-45fb-a26a-40a9f1bd99cd"
   },
   "outputs": [],
   "source": [
    "Xt,Xv,yt,yv = train_test_split(X,y,test_size=0.4,random_state=100);\n",
    "log_model = LogisticRegression(max_iter=10000);\n",
    "log_model_fit = log_model.fit(Xt,yt); \n",
    "score_log_model = log_model_fit.score(Xv,yv);\n",
    "print(f'Score LOGIT {score_log_model}')"
   ]
  },
  {
   "cell_type": "markdown",
   "metadata": {
    "id": "uybHzM0hU_SJ"
   },
   "source": [
    "# Mapa"
   ]
  },
  {
   "cell_type": "markdown",
   "metadata": {
    "id": "Cye1vXICV35f"
   },
   "source": [
    "## Crear instancia de geopanda\n"
   ]
  },
  {
   "cell_type": "code",
   "execution_count": null,
   "metadata": {
    "colab": {
     "base_uri": "https://localhost:8080/",
     "height": 606
    },
    "id": "OkxmBYazU8q-",
    "outputId": "041cf614-7653-40b0-8927-47792995d707"
   },
   "outputs": [],
   "source": [
    "\n",
    "import geopandas as gpd\n",
    "shapefile = 'data/medellin/map-polygon.shp'\n",
    "#Read shapefile using Geopandas\n",
    "gdf = gpd.read_file(shapefile)[['NOMBRE', 'IDENTIFICA', 'geometry']]\n",
    "gdf.columns = ['nombre', 'index', 'geometry']\n",
    "gdf\n",
    "\n"
   ]
  }
 ],
 "metadata": {
  "colab": {
   "collapsed_sections": [],
   "name": "ProyectoIS.ipynb",
   "provenance": [],
   "toc_visible": true
  },
  "kernelspec": {
   "display_name": "Python 3",
   "language": "python",
   "name": "python3"
  },
  "language_info": {
   "codemirror_mode": {
    "name": "ipython",
    "version": 3
   },
   "file_extension": ".py",
   "mimetype": "text/x-python",
   "name": "python",
   "nbconvert_exporter": "python",
   "pygments_lexer": "ipython3",
   "version": "3.8.6"
  }
 },
 "nbformat": 4,
 "nbformat_minor": 1
}
